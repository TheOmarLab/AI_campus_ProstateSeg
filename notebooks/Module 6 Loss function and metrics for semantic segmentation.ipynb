{
 "cells": [
  {
   "cell_type": "markdown",
   "id": "8d211b1d",
   "metadata": {},
   "source": [
    "# AI_campus_ProstateSeg \n",
    "# Module 6: Loss function and metrics for semantic segmentation\n",
    "### PANDA: Prostate cANcer graDe Assessment (PANDA) Challenge"
   ]
  },
  {
   "cell_type": "markdown",
   "id": "e0296f7b",
   "metadata": {},
   "source": [
    "This notebook walks through developing an intuition for the loss functions that can be used to train a semantic segmentation model, in addition to metrics to evaluate the quality of a predicted segmentation mask with respect to a ground truth segmentation mask"
   ]
  },
  {
   "cell_type": "markdown",
   "id": "5c05cace",
   "metadata": {},
   "source": [
    "## 1. Import the necessary packages"
   ]
  },
  {
   "cell_type": "code",
   "execution_count": 1,
   "id": "81470120",
   "metadata": {},
   "outputs": [],
   "source": [
    "import os\n",
    "import tifffile\n",
    "import numpy as np\n",
    "import matplotlib.pyplot as plt\n",
    "import panda_utils as putil\n",
    "import torch\n",
    "import torchvision.transforms as transforms\n",
    "\n",
    "from PIL import Image\n",
    "from typing import List, Union, Optional, Dict, Tuple\n",
    "from torch.utils.data import Dataset\n",
    "from dataclass import ToyPANDASDataset\n",
    "from torchvision.transforms import functional as F"
   ]
  },
  {
   "cell_type": "markdown",
   "id": "17e5ac8b",
   "metadata": {},
   "source": [
    "## 2. Define folder and subdirectory folder names"
   ]
  },
  {
   "cell_type": "code",
   "execution_count": 2,
   "id": "9d3da0fc",
   "metadata": {},
   "outputs": [],
   "source": [
    "ROOT_FOLDER = \"sample_data\"\n",
    "IMAGE_SUBFOLDER = \"train_images\"\n",
    "MASK_SUBFOLDER = \"train_label_masks\"\n",
    "\n",
    "image_dir = os.path.join(ROOT_FOLDER, IMAGE_SUBFOLDER)\n",
    "mask_dir = os.path.join(ROOT_FOLDER, MASK_SUBFOLDER)"
   ]
  },
  {
   "cell_type": "markdown",
   "id": "70f9fdb5",
   "metadata": {},
   "source": [
    "## 3. Create list of image and mask files and print contents"
   ]
  },
  {
   "cell_type": "code",
   "execution_count": 3,
   "id": "77776ceb",
   "metadata": {},
   "outputs": [],
   "source": [
    "image_files = list(filter(lambda file: file != '.DS_Store', sorted(os.listdir(image_dir))))\n",
    "mask_files = list(filter(lambda file: file != '.DS_Store', sorted(os.listdir(mask_dir))))"
   ]
  },
  {
   "cell_type": "code",
   "execution_count": 4,
   "id": "9f2abe76",
   "metadata": {},
   "outputs": [
    {
     "data": {
      "text/plain": [
       "['0018ae58b01bdadc8e347995b69f99aa.tiff',\n",
       " '004dd32d9cd167d9cc31c13b704498af.tiff',\n",
       " '0068d4c7529e34fd4c9da863ce01a161.tiff',\n",
       " '006f6aa35a78965c92fffd1fbd53a058.tiff',\n",
       " '007433133235efc27a39f11df6940829.tiff',\n",
       " '0076bcb66e46fb485f5ba432b9a1fe8a.tiff',\n",
       " '008069b542b0439ed69b194674051964.tiff',\n",
       " '00928370e2dfeb8a507667ef1d4efcbb.tiff',\n",
       " '00951a7fad040bf7e90f32e81fc0746f.tiff',\n",
       " '00a26aaa82c959624d90dfb69fcf259c.tiff']"
      ]
     },
     "execution_count": 4,
     "metadata": {},
     "output_type": "execute_result"
    }
   ],
   "source": [
    "image_files"
   ]
  },
  {
   "cell_type": "code",
   "execution_count": 5,
   "id": "4dbea766",
   "metadata": {},
   "outputs": [
    {
     "data": {
      "text/plain": [
       "['0018ae58b01bdadc8e347995b69f99aa_mask.tiff',\n",
       " '004dd32d9cd167d9cc31c13b704498af_mask.tiff',\n",
       " '0068d4c7529e34fd4c9da863ce01a161_mask.tiff',\n",
       " '006f6aa35a78965c92fffd1fbd53a058_mask.tiff',\n",
       " '007433133235efc27a39f11df6940829_mask.tiff',\n",
       " '0076bcb66e46fb485f5ba432b9a1fe8a_mask.tiff',\n",
       " '008069b542b0439ed69b194674051964_mask.tiff',\n",
       " '00928370e2dfeb8a507667ef1d4efcbb_mask.tiff',\n",
       " '00951a7fad040bf7e90f32e81fc0746f_mask.tiff',\n",
       " '00a26aaa82c959624d90dfb69fcf259c_mask.tiff']"
      ]
     },
     "execution_count": 5,
     "metadata": {},
     "output_type": "execute_result"
    }
   ],
   "source": [
    "mask_files"
   ]
  },
  {
   "cell_type": "markdown",
   "id": "3a5e1ee7",
   "metadata": {},
   "source": [
    "## 4. Instantiate PANDA dataset class"
   ]
  },
  {
   "cell_type": "markdown",
   "id": "bafea3cc",
   "metadata": {},
   "source": [
    "From previous module 4, instantiate the PANDA dataset class. The class instantiation process will print out the following metrics for tile processing\n",
    "\n",
    "- total number of tiles processed over the entire dataset\n",
    "- tile qualifying ratio (the number of tiles from the total number of tiles that were processed)\n",
    "- average number of tiles processed per image or mask\n",
    "- average number of tiles qualifying per image or mask"
   ]
  },
  {
   "cell_type": "code",
   "execution_count": 6,
   "id": "21e1e32c",
   "metadata": {},
   "outputs": [
    {
     "name": "stdout",
     "output_type": "stream",
     "text": [
      "Total number of tiles processed: 38593\n",
      "Tile qualifying ratio: 0.15458761951649264\n",
      "Average number of tiles processed per image or mask: 3859.3\n",
      "Average number of tiles qualifying per image or mask: 596.6\n"
     ]
    }
   ],
   "source": [
    "panda_dataset = ToyPANDASDataset(image_dir = image_dir,\n",
    "                                 mask_dir = mask_dir,\n",
    "                                 root_dir = ROOT_FOLDER)"
   ]
  },
  {
   "cell_type": "markdown",
   "id": "eb850da3",
   "metadata": {},
   "source": [
    "Print out the length of the dataset class, this will return the number of qualifying tiles over the entire dataset, which is the number of tuples contained in the imtile_coords list in the dataset class."
   ]
  },
  {
   "cell_type": "code",
   "execution_count": 7,
   "id": "2279ab38",
   "metadata": {},
   "outputs": [
    {
     "data": {
      "text/plain": [
       "5966"
      ]
     },
     "execution_count": 7,
     "metadata": {},
     "output_type": "execute_result"
    }
   ],
   "source": [
    "len(panda_dataset)"
   ]
  },
  {
   "cell_type": "markdown",
   "id": "52e5bca8",
   "metadata": {},
   "source": [
    "Access one element of the dataset class, which will call the __getitem__ method. It returns a single, non-batched data point, which is a tile of dimensionality (224, 224, 3)"
   ]
  },
  {
   "cell_type": "code",
   "execution_count": 9,
   "id": "ec9e124a",
   "metadata": {},
   "outputs": [
    {
     "data": {
      "text/plain": [
       "(224, 224, 3)"
      ]
     },
     "execution_count": 9,
     "metadata": {},
     "output_type": "execute_result"
    }
   ],
   "source": [
    "panda_dataset[0].shape"
   ]
  },
  {
   "cell_type": "markdown",
   "id": "83a057a9",
   "metadata": {},
   "source": [
    "Plot one of the tiles"
   ]
  },
  {
   "cell_type": "code",
   "execution_count": 10,
   "id": "86487267",
   "metadata": {},
   "outputs": [
    {
     "data": {
      "text/plain": [
       "<matplotlib.image.AxesImage at 0x147f4c940>"
      ]
     },
     "execution_count": 10,
     "metadata": {},
     "output_type": "execute_result"
    },
    {
     "data": {
      "image/png": "[encoded data removed]",
      "text/plain": [
       "<Figure size 432x288 with 1 Axes>"
      ]
     },
     "metadata": {
      "needs_background": "light"
     },
     "output_type": "display_data"
    }
   ],
   "source": [
    "plt.imshow(panda_dataset[10])"
   ]
  },
  {
   "cell_type": "markdown",
   "id": "7fc158df",
   "metadata": {},
   "source": [
    "## 5. Cross entropy loss function intuition"
   ]
  },
  {
   "cell_type": "markdown",
   "id": "11c4ab7b",
   "metadata": {},
   "source": [
    "In semantic image segmentation, our goal is to classify each pixel of an image into one of a few class, in case of multi-class semantic segmentation. Generally, the cross entropy loss function is used for multi-class classification tasks. Given a ground truth, target one-hot vector, and a predicted probability distribution over a few classes that a pixel could belong to, the cross entropy loss function is high when the predicted probability distribution is very different with respect to the ground truth probability distribution, and it is low when the predicted probability distribution is very similar to the ground truth probability distribution. The cross entropy loss function is defined as follows:\n",
    "\n",
    "$\\text{CE}(p, q) = - \\sum_{c=1}^{C} y_c \\log(p_c)$\n"
   ]
  },
  {
   "cell_type": "markdown",
   "id": "0f9dbec9",
   "metadata": {},
   "source": [
    "Write code for cross entropy loss function"
   ]
  },
  {
   "cell_type": "code",
   "execution_count": 11,
   "id": "09700c25",
   "metadata": {},
   "outputs": [],
   "source": [
    "def ce_loss(true, predicted):\n",
    "    \n",
    "    assert len(true) == len(predicted)\n",
    "    loss = 0.0\n",
    "    \n",
    "    for i in range(len(true)):\n",
    "        loss += true[i]*np.log(predicted[i])\n",
    "    \n",
    "    return -loss"
   ]
  },
  {
   "cell_type": "markdown",
   "id": "a9408093",
   "metadata": {},
   "source": [
    "We can compare examples of distribution pairs in order to develop an intuition for this loss function. In the following example, there is a supremum distance of 0.1 = (1.0 - 0.9)."
   ]
  },
  {
   "cell_type": "code",
   "execution_count": 24,
   "id": "09f9308a",
   "metadata": {},
   "outputs": [],
   "source": [
    "true = [1.0, 0.0, 0.0]\n",
    "predicted = [0.9, 0.5, 0.5]"
   ]
  },
  {
   "cell_type": "code",
   "execution_count": 27,
   "id": "2db1eac5",
   "metadata": {},
   "outputs": [
    {
     "name": "stdout",
     "output_type": "stream",
     "text": [
      "CE Loss: 0.11\n"
     ]
    }
   ],
   "source": [
    "print(f\"CE Loss: {round(ce_loss(true, predicted),2)}\")"
   ]
  },
  {
   "cell_type": "markdown",
   "id": "053080db",
   "metadata": {},
   "source": [
    "In the following example, there is a higher supremum distance of 0.2 (1.0 - 0.8), the probability distributions are more different, and hence, we observe a higher cross entropy loss."
   ]
  },
  {
   "cell_type": "code",
   "execution_count": 30,
   "id": "0bcaa2a5",
   "metadata": {},
   "outputs": [],
   "source": [
    "true = [1.0, 0.0, 0.0]\n",
    "predicted = [0.8, 0.1, 0.2]"
   ]
  },
  {
   "cell_type": "code",
   "execution_count": 31,
   "id": "3c97523e",
   "metadata": {},
   "outputs": [
    {
     "name": "stdout",
     "output_type": "stream",
     "text": [
      "CE Loss: 0.22\n"
     ]
    }
   ],
   "source": [
    "print(f\"CE Loss: {round(ce_loss(true, predicted),2)}\")"
   ]
  },
  {
   "cell_type": "markdown",
   "id": "bcaf1649",
   "metadata": {},
   "source": [
    "In the following example, there is a supremum distance of 0.5 (1.0 - 0.5), the probability distributions are more different than the previous example, and hence, we observe a higher cross entropy loss."
   ]
  },
  {
   "cell_type": "code",
   "execution_count": 33,
   "id": "202c2bf7",
   "metadata": {},
   "outputs": [],
   "source": [
    "true = [1.0, 0.0, 0.0]\n",
    "predicted = [0.5, 0.25, 0.25]"
   ]
  },
  {
   "cell_type": "code",
   "execution_count": 34,
   "id": "190a980d",
   "metadata": {},
   "outputs": [
    {
     "name": "stdout",
     "output_type": "stream",
     "text": [
      "CE Loss: 0.69\n"
     ]
    }
   ],
   "source": [
    "print(f\"CE Loss: {round(ce_loss(true, predicted),2)}\")"
   ]
  },
  {
   "cell_type": "markdown",
   "id": "1583c944",
   "metadata": {},
   "source": [
    "In the following example, there is a supremum distance of 0.9 (1.0-0.1), the probability distributions are more different than the previous example, and hence, we observe a higher cross entropy loss."
   ]
  },
  {
   "cell_type": "code",
   "execution_count": 35,
   "id": "22b8dc45",
   "metadata": {},
   "outputs": [],
   "source": [
    "true = [1.0, 0.0, 0.0]\n",
    "predicted = [0.1, 0.8, 0.1]"
   ]
  },
  {
   "cell_type": "code",
   "execution_count": 36,
   "id": "af02d2d6",
   "metadata": {},
   "outputs": [
    {
     "name": "stdout",
     "output_type": "stream",
     "text": [
      "CE Loss: 2.3\n"
     ]
    }
   ],
   "source": [
    "print(f\"CE Loss: {round(ce_loss(true, predicted),2)}\")"
   ]
  },
  {
   "cell_type": "markdown",
   "id": "ab3e3255",
   "metadata": {},
   "source": [
    "The CE loss tends to larger and larger values as the difference in the probability distributions increases."
   ]
  },
  {
   "cell_type": "code",
   "execution_count": 41,
   "id": "4d8e2d41",
   "metadata": {},
   "outputs": [],
   "source": [
    "true = [1.0, 0.0, 0.0]\n",
    "predicted = [0.01, 0.495, 0.495]"
   ]
  },
  {
   "cell_type": "code",
   "execution_count": 49,
   "id": "de0654e8",
   "metadata": {},
   "outputs": [
    {
     "name": "stdout",
     "output_type": "stream",
     "text": [
      "CE Loss: 4.61\n"
     ]
    }
   ],
   "source": [
    "print(f\"CE Loss: {round(ce_loss(true, predicted),2)}\")"
   ]
  },
  {
   "cell_type": "markdown",
   "id": "0ba670bb",
   "metadata": {},
   "source": [
    "## 6. Intersection over Union for comparing predicted segmentation mask with respect to ground truth segmentation mask"
   ]
  },
  {
   "cell_type": "markdown",
   "id": "6ba3ed49",
   "metadata": {},
   "source": [
    "Another way to evaluate the similarity between a predicted segmentation mask and a ground truth binary or multi-class segmentation mask is through the intersection over union metric. This metric compares the overlap between a ground truth segmentation mask and a predicted segmentation mask. It is defined by the following formula. The numerator is the number of intersecting pixels in both the masks (number of points where there is a 1 in both the masks) and the denominator is the number of pixels that are 1 in either the ground truth mask or the predicted mask.\n",
    "\n",
    "$\\text{IoU} = \\frac{|A \\cap B|}{|A \\cup B|}$\n",
    "\n",
    "If the two masks being compared: the ground truth mask and the predicted mask, are binary (i.e. contain only 0s or 1s), then the following function can be used to calculate the IOU by flattening the 2D matrices to 1D vectors."
   ]
  },
  {
   "cell_type": "code",
   "execution_count": 53,
   "id": "56783437",
   "metadata": {},
   "outputs": [],
   "source": [
    "def compute_iou(mask1: np.ndarray, \n",
    "                mask2: np.ndarray) -> float:\n",
    "    \"\"\"\n",
    "    Compute the intersection over union (IoU) between two\n",
    "    binary masks. \n",
    "    \n",
    "    Parameters\n",
    "    ----------\n",
    "    mask1: np.ndarray\n",
    "        Binary mask of shape (H, W)\n",
    "    \n",
    "    mask2: np.ndarray\n",
    "        Binary mask of shape (H, W)\n",
    "    \n",
    "    Returns\n",
    "    --------\n",
    "    float:\n",
    "        The intersection over union (IoU) score\n",
    "        between the two binary masks\n",
    "    \"\"\"\n",
    "    \n",
    "    mask1 = mask1.flatten()\n",
    "    mask2 = mask2.flatten()\n",
    "    \n",
    "    intersection = np.dot(mask1, mask2)\n",
    "    union = np.sum(mask1) + np.sum(mask2) - intersection\n",
    "    \n",
    "    return intersection / union"
   ]
  },
  {
   "cell_type": "markdown",
   "id": "ae3cc349",
   "metadata": {},
   "source": [
    "Example of binary mask pair with high intersection over union"
   ]
  },
  {
   "cell_type": "code",
   "execution_count": 58,
   "id": "5148af5b",
   "metadata": {},
   "outputs": [],
   "source": [
    "mask1_high = np.array([[1, 1, 0], [1, 1, 0], [0, 0, 0]])\n",
    "mask2_high = np.array([[1, 1, 0], [1, 1, 0], [0, 0, 0]])"
   ]
  },
  {
   "cell_type": "code",
   "execution_count": 59,
   "id": "fbfb87aa",
   "metadata": {},
   "outputs": [
    {
     "data": {
      "text/plain": [
       "array([[1, 1, 0],\n",
       "       [1, 1, 0],\n",
       "       [0, 0, 0]])"
      ]
     },
     "execution_count": 59,
     "metadata": {},
     "output_type": "execute_result"
    }
   ],
   "source": [
    "mask1_high"
   ]
  },
  {
   "cell_type": "code",
   "execution_count": 60,
   "id": "34f75f16",
   "metadata": {},
   "outputs": [
    {
     "data": {
      "text/plain": [
       "array([[1, 1, 0],\n",
       "       [1, 1, 0],\n",
       "       [0, 0, 0]])"
      ]
     },
     "execution_count": 60,
     "metadata": {},
     "output_type": "execute_result"
    }
   ],
   "source": [
    "mask2_high"
   ]
  },
  {
   "cell_type": "code",
   "execution_count": 61,
   "id": "42a92abb",
   "metadata": {},
   "outputs": [
    {
     "data": {
      "text/plain": [
       "1.0"
      ]
     },
     "execution_count": 61,
     "metadata": {},
     "output_type": "execute_result"
    }
   ],
   "source": [
    "compute_iou(mask1_high, mask2_high)"
   ]
  },
  {
   "cell_type": "markdown",
   "id": "04ea6c81",
   "metadata": {},
   "source": [
    "Example of binary mask pair with moderate intersection over union"
   ]
  },
  {
   "cell_type": "code",
   "execution_count": 62,
   "id": "6a9c39b4",
   "metadata": {},
   "outputs": [],
   "source": [
    "mask1_moderate = np.array([[1, 1, 0], [1, 1, 0], [0, 0, 0]])\n",
    "mask2_moderate = np.array([[1, 0, 0], [1, 0, 0], [1, 1, 0]])"
   ]
  },
  {
   "cell_type": "code",
   "execution_count": 63,
   "id": "ecb20b46",
   "metadata": {},
   "outputs": [
    {
     "data": {
      "text/plain": [
       "array([[1, 1, 0],\n",
       "       [1, 1, 0],\n",
       "       [0, 0, 0]])"
      ]
     },
     "execution_count": 63,
     "metadata": {},
     "output_type": "execute_result"
    }
   ],
   "source": [
    "mask1_moderate"
   ]
  },
  {
   "cell_type": "code",
   "execution_count": 64,
   "id": "6e7ec988",
   "metadata": {},
   "outputs": [
    {
     "data": {
      "text/plain": [
       "array([[1, 0, 0],\n",
       "       [1, 0, 0],\n",
       "       [1, 1, 0]])"
      ]
     },
     "execution_count": 64,
     "metadata": {},
     "output_type": "execute_result"
    }
   ],
   "source": [
    "mask2_moderate"
   ]
  },
  {
   "cell_type": "code",
   "execution_count": 65,
   "id": "0b230fc1",
   "metadata": {},
   "outputs": [
    {
     "data": {
      "text/plain": [
       "0.3333333333333333"
      ]
     },
     "execution_count": 65,
     "metadata": {},
     "output_type": "execute_result"
    }
   ],
   "source": [
    "compute_iou(mask1_moderate, mask2_moderate)"
   ]
  },
  {
   "cell_type": "markdown",
   "id": "09db3b46",
   "metadata": {},
   "source": [
    "Example of binary mask pair with low intersection over union"
   ]
  },
  {
   "cell_type": "code",
   "execution_count": 66,
   "id": "07beedda",
   "metadata": {},
   "outputs": [],
   "source": [
    "mask1_low = np.array([[1, 1, 0], [1, 1, 0], [0, 0, 0]])\n",
    "mask2_low = np.array([[0, 0, 0], [0, 0, 1], [0, 1, 1]])"
   ]
  },
  {
   "cell_type": "code",
   "execution_count": 67,
   "id": "18b97867",
   "metadata": {},
   "outputs": [
    {
     "data": {
      "text/plain": [
       "array([[1, 1, 0],\n",
       "       [1, 1, 0],\n",
       "       [0, 0, 0]])"
      ]
     },
     "execution_count": 67,
     "metadata": {},
     "output_type": "execute_result"
    }
   ],
   "source": [
    "mask1_low"
   ]
  },
  {
   "cell_type": "code",
   "execution_count": 68,
   "id": "a12686c8",
   "metadata": {},
   "outputs": [
    {
     "data": {
      "text/plain": [
       "array([[0, 0, 0],\n",
       "       [0, 0, 1],\n",
       "       [0, 1, 1]])"
      ]
     },
     "execution_count": 68,
     "metadata": {},
     "output_type": "execute_result"
    }
   ],
   "source": [
    "mask2_low"
   ]
  },
  {
   "cell_type": "code",
   "execution_count": 69,
   "id": "24084784",
   "metadata": {},
   "outputs": [
    {
     "data": {
      "text/plain": [
       "0.0"
      ]
     },
     "execution_count": 69,
     "metadata": {},
     "output_type": "execute_result"
    }
   ],
   "source": [
    "compute_iou(mask1_low, mask2_low)"
   ]
  }
 ],
 "metadata": {
  "kernelspec": {
   "display_name": "Python 3 (ipykernel)",
   "language": "python",
   "name": "python3"
  },
  "language_info": {
   "codemirror_mode": {
    "name": "ipython",
    "version": 3
   },
   "file_extension": ".py",
   "mimetype": "text/x-python",
   "name": "python",
   "nbconvert_exporter": "python",
   "pygments_lexer": "ipython3",
   "version": "3.9.7"
  }
 },
 "nbformat": 4,
 "nbformat_minor": 5
}
