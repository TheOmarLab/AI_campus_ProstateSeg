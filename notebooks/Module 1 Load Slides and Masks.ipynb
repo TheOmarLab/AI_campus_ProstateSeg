{
 "cells": [
  {
   "cell_type": "markdown",
   "id": "e8181bc2",
   "metadata": {},
   "source": [
    "# AI_campus_ProstateSeg \n",
    "# Module 1: Loading of Slides and Masks from a subset of the PANDA dataset and conducting basic validation and characterization\n",
    "### PANDA: Prostate cANcer graDe Assessment (PANDA) Challenge"
   ]
  },
  {
   "cell_type": "markdown",
   "id": "7f57fdbe",
   "metadata": {},
   "source": [
    "In this notebook, we will simply load some whole slide image and mask pairs from a subset of the PANDA dataset from Kaggle (https://www.kaggle.com/competitions/prostate-cancer-grade-assessment/data). These image and mask pairs are from the Radboud subset of the data."
   ]
  },
  {
   "cell_type": "markdown",
   "id": "f55c0860",
   "metadata": {},
   "source": [
    "## 1. Import the necessary packages"
   ]
  },
  {
   "cell_type": "code",
   "execution_count": 90,
   "id": "1c7a9b06",
   "metadata": {},
   "outputs": [],
   "source": [
    "import os\n",
    "import tifffile\n",
    "import numpy as np\n",
    "import matplotlib.pyplot as plt\n",
    "\n",
    "from PIL import Image\n",
    "from typing import List, Union, Optional"
   ]
  },
  {
   "cell_type": "markdown",
   "id": "e8e64351",
   "metadata": {},
   "source": [
    "## 2. Define folder and sub-folder directory names"
   ]
  },
  {
   "cell_type": "code",
   "execution_count": 4,
   "id": "73b7ccf8",
   "metadata": {},
   "outputs": [],
   "source": [
    "ROOT_FOLDER = \"sample_data\"\n",
    "IMAGE_SUBFOLDER = \"train_images\"\n",
    "MASK_SUBFOLDER = \"train_label_masks\"\n",
    "\n",
    "image_dir = os.path.join(ROOT_FOLDER, IMAGE_SUBFOLDER)\n",
    "mask_dir = os.path.join(ROOT_FOLDER, MASK_SUBFOLDER)"
   ]
  },
  {
   "cell_type": "markdown",
   "id": "929b00f9",
   "metadata": {},
   "source": [
    "## 3. List all the image files (.tiff extension) contained in the image folder"
   ]
  },
  {
   "cell_type": "code",
   "execution_count": 67,
   "id": "afe8e780",
   "metadata": {},
   "outputs": [
    {
     "name": "stdout",
     "output_type": "stream",
     "text": [
      ".DS_Store\n",
      "0018ae58b01bdadc8e347995b69f99aa.tiff\n",
      "004dd32d9cd167d9cc31c13b704498af.tiff\n",
      "0068d4c7529e34fd4c9da863ce01a161.tiff\n",
      "006f6aa35a78965c92fffd1fbd53a058.tiff\n",
      "007433133235efc27a39f11df6940829.tiff\n",
      "0076bcb66e46fb485f5ba432b9a1fe8a.tiff\n",
      "008069b542b0439ed69b194674051964.tiff\n",
      "00928370e2dfeb8a507667ef1d4efcbb.tiff\n",
      "00951a7fad040bf7e90f32e81fc0746f.tiff\n",
      "00a26aaa82c959624d90dfb69fcf259c.tiff\n"
     ]
    }
   ],
   "source": [
    "for image_file in sorted(os.listdir(image_dir)):\n",
    "    print(image_file)"
   ]
  },
  {
   "cell_type": "markdown",
   "id": "9e3dbba9",
   "metadata": {},
   "source": [
    "## 4. List all the mask files contained in the mask folder"
   ]
  },
  {
   "cell_type": "code",
   "execution_count": 68,
   "id": "a79cf3ea",
   "metadata": {},
   "outputs": [
    {
     "name": "stdout",
     "output_type": "stream",
     "text": [
      ".DS_Store\n",
      "0018ae58b01bdadc8e347995b69f99aa_mask.tiff\n",
      "004dd32d9cd167d9cc31c13b704498af_mask.tiff\n",
      "0068d4c7529e34fd4c9da863ce01a161_mask.tiff\n",
      "006f6aa35a78965c92fffd1fbd53a058_mask.tiff\n",
      "007433133235efc27a39f11df6940829_mask.tiff\n",
      "0076bcb66e46fb485f5ba432b9a1fe8a_mask.tiff\n",
      "008069b542b0439ed69b194674051964_mask.tiff\n",
      "00928370e2dfeb8a507667ef1d4efcbb_mask.tiff\n",
      "00951a7fad040bf7e90f32e81fc0746f_mask.tiff\n",
      "00a26aaa82c959624d90dfb69fcf259c_mask.tiff\n"
     ]
    }
   ],
   "source": [
    "for mask_file in sorted(os.listdir(mask_dir)):\n",
    "    print(mask_file)"
   ]
  },
  {
   "cell_type": "markdown",
   "id": "bc880354",
   "metadata": {},
   "source": [
    "## 5. Write function to validate the dataset such that there is a mask corresponding to each image, and all images are paired with the matching mask label"
   ]
  },
  {
   "cell_type": "markdown",
   "id": "8fd3f40b",
   "metadata": {},
   "source": [
    "Each file with the name \"X\" in image folder must be coupled with a file named \"X_mask\" in the mask folder"
   ]
  },
  {
   "cell_type": "code",
   "execution_count": 78,
   "id": "2d3fa00f",
   "metadata": {},
   "outputs": [],
   "source": [
    "def verify_pair_match(image_dir: str,\n",
    "                      mask_dir: str,\n",
    "                      mask_ext: str = \"_mask.tiff\") -> bool:\n",
    "    \"\"\"\n",
    "    Verifies if every image file in the provided image directory has a corresponding mask file \n",
    "    in the mask directory. The mask file is expected to have the same name as the image file \n",
    "    but with a specified extension (default is '_mask.tiff').\n",
    "\n",
    "    Parameters:\n",
    "    ----------\n",
    "    image_dir : str\n",
    "        The directory containing image files.\n",
    "    \n",
    "    mask_dir : str\n",
    "        The directory containing mask files.\n",
    "    \n",
    "    mask_ext : str, optional (default is \"_mask.tiff\")\n",
    "        The extension of the mask files. \n",
    "    \n",
    "    Returns:\n",
    "    -------\n",
    "    bool\n",
    "        Returns True if every image file has a corresponding mask file, otherwise returns False. \n",
    "        \n",
    "    \"\"\"\n",
    "    \n",
    "    image_files = sorted(os.listdir(image_dir))\n",
    "    mask_files = sorted(os.listdir(mask_dir))\n",
    "    \n",
    "    for file in image_files:\n",
    "        if file != '.DS_Store':  \n",
    "            if file[:file.find(\".\")] + mask_ext not in mask_files:\n",
    "                return False  \n",
    "    \n",
    "    return True"
   ]
  },
  {
   "cell_type": "code",
   "execution_count": 79,
   "id": "69e98ab3",
   "metadata": {},
   "outputs": [
    {
     "data": {
      "text/plain": [
       "True"
      ]
     },
     "execution_count": 79,
     "metadata": {},
     "output_type": "execute_result"
    }
   ],
   "source": [
    "verify_pair_match(image_dir = image_dir,\n",
    "                  mask_dir = mask_dir)"
   ]
  },
  {
   "cell_type": "markdown",
   "id": "78b056cf",
   "metadata": {},
   "source": [
    "## 6. Load and print out the dimensions of each of the images contained in the image folder"
   ]
  },
  {
   "cell_type": "code",
   "execution_count": 80,
   "id": "c551a574",
   "metadata": {},
   "outputs": [
    {
     "name": "stdout",
     "output_type": "stream",
     "text": [
      "(25344, 5888, 3)\n",
      "(22528, 8192, 3)\n",
      "(10496, 6912, 3)\n",
      "(7680, 2048, 3)\n",
      "(24320, 9472, 3)\n",
      "(14848, 11776, 3)\n",
      "(8704, 23808, 3)\n",
      "(36352, 10752, 3)\n",
      "(8192, 11520, 3)\n",
      "(20736, 18688, 3)\n"
     ]
    }
   ],
   "source": [
    "for image_file in sorted(os.listdir(image_dir)):\n",
    "    if image_file != \".DS_Store\":\n",
    "        img = tifffile.imread(os.path.join(ROOT_FOLDER, IMAGE_SUBFOLDER, image_file))\n",
    "        print(img.shape)"
   ]
  },
  {
   "cell_type": "markdown",
   "id": "eb7332b4",
   "metadata": {},
   "source": [
    "## 7. Load and print out the dimensions of each of the masks contained in the mask folder"
   ]
  },
  {
   "cell_type": "code",
   "execution_count": 139,
   "id": "c5eb7304",
   "metadata": {},
   "outputs": [
    {
     "name": "stdout",
     "output_type": "stream",
     "text": [
      "(25344, 5888, 3)\n",
      "(22528, 8192, 3)\n",
      "(10496, 6912, 3)\n",
      "(7680, 2048, 3)\n",
      "(24320, 9472, 3)\n",
      "(14848, 11776, 3)\n",
      "(8704, 23808, 3)\n",
      "(36352, 10752, 3)\n",
      "(8192, 11520, 3)\n",
      "(20736, 18688, 3)\n"
     ]
    }
   ],
   "source": [
    "for mask_file in sorted(os.listdir(mask_dir)):\n",
    "    if mask_file != \".DS_Store\":\n",
    "        mask = tifffile.imread(os.path.join(ROOT_FOLDER, MASK_SUBFOLDER, mask_file))\n",
    "        print(mask.shape)"
   ]
  },
  {
   "cell_type": "markdown",
   "id": "34d6765b",
   "metadata": {},
   "source": [
    "## 8. Write function to validate the dataset such that each image-mask pair has the same dimensionality along specified dimension indices"
   ]
  },
  {
   "cell_type": "code",
   "execution_count": 150,
   "id": "06f0dea2",
   "metadata": {},
   "outputs": [],
   "source": [
    "def verify_dim_match(image_dir: str,\n",
    "                     mask_dir: str,\n",
    "                     dims: List[int] = [0,1,2]) -> bool:\n",
    "    \"\"\"\n",
    "    Verifies that each image and mask pair have the same dimensionality along the specified\n",
    "    list of dimension indexes in dims. \n",
    "    \n",
    "    Parameters:\n",
    "    ----------\n",
    "    image_dir : str\n",
    "        The directory containing image files.\n",
    "    \n",
    "    mask_dir : str\n",
    "        The directory containing mask files.\n",
    "    \n",
    "    dims: List[int]\n",
    "        List of integers specifying dimensions and their values to check for match. \n",
    "        Default: [0,1,2]: each image and mask pair will be checked for a match at dimension indices [0,1,2]\n",
    "                          \n",
    "        \n",
    "    Returns:\n",
    "    -------\n",
    "    bool\n",
    "        Returns True if the dimensionality of each image and mask pair matches along all of the \n",
    "        specified dimension indices, False otherwise\n",
    "        \n",
    "    \"\"\"\n",
    "    \n",
    "    image_files = list(filter(lambda file: file != '.DS_Store', sorted(os.listdir(image_dir))))\n",
    "    mask_files = list(filter(lambda file: file != '.DS_Store', sorted(os.listdir(mask_dir))))\n",
    "    \n",
    "    assert len(image_files) == len(mask_files)\n",
    "    dims = list(set(dims))\n",
    "    \n",
    "    n_files = len(image_files)\n",
    "    \n",
    "    for i in range(n_files):\n",
    "        img = tifffile.imread(os.path.join(ROOT_FOLDER, IMAGE_SUBFOLDER, image_files[i]))\n",
    "        mask = tifffile.imread(os.path.join(ROOT_FOLDER, MASK_SUBFOLDER, mask_files[i]))\n",
    "        \n",
    "        img_dim = img.shape\n",
    "        mask_dim = mask.shape\n",
    "        \n",
    "        match = all([img_dim[d] == mask_dim[d] for d in dims])\n",
    "        \n",
    "        if not match:\n",
    "            return False\n",
    "        \n",
    "    return True"
   ]
  },
  {
   "cell_type": "code",
   "execution_count": 326,
   "id": "ed550d60",
   "metadata": {},
   "outputs": [
    {
     "data": {
      "text/plain": [
       "True"
      ]
     },
     "execution_count": 326,
     "metadata": {},
     "output_type": "execute_result"
    }
   ],
   "source": [
    "verify_dim_match(image_dir = image_dir,\n",
    "                 mask_dir = mask_dir)"
   ]
  },
  {
   "cell_type": "markdown",
   "id": "11b62b4f",
   "metadata": {},
   "source": [
    "## 9. Write function to validate and characterize masks"
   ]
  },
  {
   "cell_type": "code",
   "execution_count": 325,
   "id": "2f3574a9",
   "metadata": {},
   "outputs": [],
   "source": [
    "def validate_three_channel_mask(mask: np.ndarray) -> bool:\n",
    "    \n",
    "    \"\"\"\n",
    "    Since the PANDA dataset masks have 3 channels, this is a basic\n",
    "    function to validate an input mask. Only one of the three channels\n",
    "    of the mask could be effectively used as the official mask of the\n",
    "    corresponding image.\n",
    "    \n",
    "    Parameters:\n",
    "    ----------\n",
    "    mask : np.ndarray\n",
    "        Input three-channel mask with integer labels possibly ranging from 0-5\n",
    "        across one or all channels\n",
    "    \n",
    "    For the Radboud study of the PANDA dataset:\n",
    "        0: background (non tissue) or unknown\n",
    "        1: stroma (connective tissue, non-epithelium tissue)\n",
    "        2: healthy (benign) epithelium\n",
    "        3: cancerous epithelium (Gleason 3)\n",
    "        4: cancerous epithelium (Gleason 4)\n",
    "        5: cancerous epithelium (Gleason 5)\n",
    "    \n",
    "    Returns:\n",
    "    -------\n",
    "    bool\n",
    "        Returns True if the three-channel mask is valid, False otherwise.\n",
    "        Validity criteria defined in the following cases. \n",
    "    \"\"\"\n",
    "    \n",
    "    # Verify that the mask to validate contains 3 channels\n",
    "    assert isinstance(mask, np.ndarray)\n",
    "    assert mask.shape[2] == 3\n",
    "    \n",
    "    # Extract first, second, and third channels from the mask\n",
    "    first = mask[:, :, 0]\n",
    "    second = mask[:, :, 1]\n",
    "    third = mask[:, :, 2]\n",
    "    \n",
    "    first_sum = first.sum()\n",
    "    second_sum = second.sum()\n",
    "    third_sum = third.sum()\n",
    "    \n",
    "    assert first_sum >= 0 and second_sum >= 0 and third_sum >= 0\n",
    "        \n",
    "    # Case 1: The mask indicates all background (contains only 0s)\n",
    "    # If all entries in all channels are 0, all channels will sum to 0\n",
    "    \n",
    "    if (first_sum + second_sum + third_sum) == 0:\n",
    "        return True\n",
    "    \n",
    "    # Case 2: The mask indicates non-zero signal and only one of the three channels\n",
    "    # is designated to express the non-zero signal\n",
    "    # Exactly one of the channels will sum to a number greater than 0\n",
    "    # While the other two channels will each sum to 0\n",
    "    \n",
    "    if first_sum > 0 and (second_sum + third_sum == 0):\n",
    "        return True\n",
    "    if second_sum > 0 and (first_sum + third_sum == 0):\n",
    "        return True\n",
    "    if third_sum > 0 and (first_sum + second_sum == 0):\n",
    "        return True\n",
    "    \n",
    "    # Case 3: The mask indicates non-zero signal and two channels are designated to\n",
    "    # express that non-zero signal. So two of the three channels must sum to a number \n",
    "    # greater than 0 and both of them should be identical\n",
    "    \n",
    "    if first_sum > 0 and second_sum > 0 and np.all(first == second):\n",
    "        return True\n",
    "    if first_sum > 0 and third_sum > 0 and np.all(first == third):\n",
    "        return True\n",
    "    if second_sum > 0 and third_sum > 0 and np.all(second == third):\n",
    "        return True\n",
    "    \n",
    "    # Case 4: \n",
    "    # The mask indicates non-zero signal and all of the three channels are designated\n",
    "    # to express that non-zero signal. So each of the three channels must sum to a number\n",
    "    # greater than 0 and all of them must be identical\n",
    "    \n",
    "    if (first_sum == second_sum == third_sum) and np.all(first == second) and np.all(second == third):\n",
    "        return True\n",
    "    \n",
    "    return False"
   ]
  },
  {
   "cell_type": "code",
   "execution_count": 322,
   "id": "57f5a984",
   "metadata": {},
   "outputs": [],
   "source": [
    "def validate_mask_dir(mask_dir: str) -> bool:\n",
    "    \n",
    "    \"\"\"\n",
    "    Validate all masks in mask directory using\n",
    "    validate_three_channel_mask\n",
    "    \n",
    "    Parameters:\n",
    "    ----------\n",
    "    mask_dir : str\n",
    "        The directory containing mask files.\n",
    "        \n",
    "    Returns:\n",
    "    -------\n",
    "    bool\n",
    "        Returns True if all masks in directory are valid\n",
    "        according to validate_three_channel_mask\n",
    "        \n",
    "    \"\"\"\n",
    "    \n",
    "    mask_files = list(filter(lambda file: file != '.DS_Store', sorted(os.listdir(mask_dir))))\n",
    "    \n",
    "    for file in mask_files:\n",
    "        mask = tifffile.imread(os.path.join(ROOT_FOLDER, MASK_SUBFOLDER, file))\n",
    "        if not validate_three_channel_mask(mask):\n",
    "            return False\n",
    "    return True"
   ]
  },
  {
   "cell_type": "code",
   "execution_count": 324,
   "id": "f1138d46",
   "metadata": {},
   "outputs": [
    {
     "data": {
      "text/plain": [
       "True"
      ]
     },
     "execution_count": 324,
     "metadata": {},
     "output_type": "execute_result"
    }
   ],
   "source": [
    "validate_mask_dir(mask_dir = mask_dir)"
   ]
  }
 ],
 "metadata": {
  "kernelspec": {
   "display_name": "Python 3 (ipykernel)",
   "language": "python",
   "name": "python3"
  },
  "language_info": {
   "codemirror_mode": {
    "name": "ipython",
    "version": 3
   },
   "file_extension": ".py",
   "mimetype": "text/x-python",
   "name": "python",
   "nbconvert_exporter": "python",
   "pygments_lexer": "ipython3",
   "version": "3.9.7"
  }
 },
 "nbformat": 4,
 "nbformat_minor": 5
}
