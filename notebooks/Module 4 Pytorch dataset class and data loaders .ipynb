{
 "cells": [
  {
   "cell_type": "markdown",
   "id": "a71368ab",
   "metadata": {},
   "source": [
    "# AI_campus_ProstateSeg \n",
    "# Module 4: Pytorch dataset class and data loaders\n",
    "### PANDA: Prostate cANcer graDe Assessment (PANDA) Challenge"
   ]
  },
  {
   "cell_type": "markdown",
   "id": "cbf5499a",
   "metadata": {},
   "source": [
    "This notebook walks through using the dataset and data loader classes in PyTorch in order to process tiles from whole slide images and feed them to machine learning models"
   ]
  },
  {
   "cell_type": "markdown",
   "id": "34aa25ca",
   "metadata": {},
   "source": [
    "## 1. Import the necessary packages"
   ]
  },
  {
   "cell_type": "code",
   "execution_count": 7,
   "id": "48439c6e",
   "metadata": {},
   "outputs": [],
   "source": [
    "import os\n",
    "import tifffile\n",
    "import numpy as np\n",
    "import matplotlib.pyplot as plt\n",
    "import panda_utils as putil\n",
    "import torch\n",
    "\n",
    "from PIL import Image\n",
    "from typing import List, Union, Optional, Dict, Tuple\n",
    "from torch.utils.data import Dataset"
   ]
  },
  {
   "cell_type": "markdown",
   "id": "94d6c5d2",
   "metadata": {},
   "source": [
    "## 2. Define folder and subdirectory folder names"
   ]
  },
  {
   "cell_type": "code",
   "execution_count": 3,
   "id": "c5a3c103",
   "metadata": {},
   "outputs": [],
   "source": [
    "ROOT_FOLDER = \"sample_data\"\n",
    "IMAGE_SUBFOLDER = \"train_images\"\n",
    "MASK_SUBFOLDER = \"train_label_masks\"\n",
    "\n",
    "image_dir = os.path.join(ROOT_FOLDER, IMAGE_SUBFOLDER)\n",
    "mask_dir = os.path.join(ROOT_FOLDER, MASK_SUBFOLDER)"
   ]
  },
  {
   "cell_type": "markdown",
   "id": "ee7ff68d",
   "metadata": {},
   "source": [
    "## 3. Create list of image and mask files and print contents"
   ]
  },
  {
   "cell_type": "code",
   "execution_count": 62,
   "id": "69009ab3",
   "metadata": {},
   "outputs": [],
   "source": [
    "image_files = list(filter(lambda file: file != '.DS_Store', sorted(os.listdir(image_dir))))\n",
    "mask_files = list(filter(lambda file: file != '.DS_Store', sorted(os.listdir(mask_dir))))"
   ]
  },
  {
   "cell_type": "code",
   "execution_count": 63,
   "id": "c8b82f87",
   "metadata": {},
   "outputs": [
    {
     "data": {
      "text/plain": [
       "['0018ae58b01bdadc8e347995b69f99aa.tiff',\n",
       " '004dd32d9cd167d9cc31c13b704498af.tiff',\n",
       " '0068d4c7529e34fd4c9da863ce01a161.tiff',\n",
       " '006f6aa35a78965c92fffd1fbd53a058.tiff',\n",
       " '007433133235efc27a39f11df6940829.tiff',\n",
       " '0076bcb66e46fb485f5ba432b9a1fe8a.tiff',\n",
       " '008069b542b0439ed69b194674051964.tiff',\n",
       " '00928370e2dfeb8a507667ef1d4efcbb.tiff',\n",
       " '00951a7fad040bf7e90f32e81fc0746f.tiff',\n",
       " '00a26aaa82c959624d90dfb69fcf259c.tiff']"
      ]
     },
     "execution_count": 63,
     "metadata": {},
     "output_type": "execute_result"
    }
   ],
   "source": [
    "image_files"
   ]
  },
  {
   "cell_type": "code",
   "execution_count": 61,
   "id": "ebf544f1",
   "metadata": {},
   "outputs": [
    {
     "data": {
      "text/plain": [
       "['0018ae58b01bdadc8e347995b69f99aa_mask.tiff',\n",
       " '004dd32d9cd167d9cc31c13b704498af_mask.tiff',\n",
       " '0068d4c7529e34fd4c9da863ce01a161_mask.tiff',\n",
       " '006f6aa35a78965c92fffd1fbd53a058_mask.tiff',\n",
       " '007433133235efc27a39f11df6940829_mask.tiff',\n",
       " '0076bcb66e46fb485f5ba432b9a1fe8a_mask.tiff',\n",
       " '008069b542b0439ed69b194674051964_mask.tiff',\n",
       " '00928370e2dfeb8a507667ef1d4efcbb_mask.tiff',\n",
       " '00951a7fad040bf7e90f32e81fc0746f_mask.tiff',\n",
       " '00a26aaa82c959624d90dfb69fcf259c_mask.tiff']"
      ]
     },
     "execution_count": 61,
     "metadata": {},
     "output_type": "execute_result"
    }
   ],
   "source": [
    "mask_files"
   ]
  },
  {
   "cell_type": "code",
   "execution_count": 39,
   "id": "ffbc5363",
   "metadata": {},
   "outputs": [],
   "source": [
    "def tile_qualifier(tile_mask: np.ndarray,\n",
    "                   min_thresh: float = 0.2):\n",
    "    \n",
    "    signal_ratio = (tile_mask > 0).sum()/tile_mask.size\n",
    "    \n",
    "    return signal_ratio >= min_thresh"
   ]
  },
  {
   "cell_type": "code",
   "execution_count": 50,
   "id": "d74f23f5",
   "metadata": {},
   "outputs": [
    {
     "data": {
      "text/plain": [
       "['.DS_Store',\n",
       " 'sample_data_exploration.ipynb',\n",
       " 'panda_utils.py',\n",
       " 'sample_data.zip',\n",
       " '__pycache__',\n",
       " 'original_panda_retrieval.ipynb',\n",
       " 'sample_data',\n",
       " 'Module 4 Pytorch dataset class and data loaders .ipynb',\n",
       " 'Module 3 Image preprocessing using normalization.ipynb',\n",
       " '.ipynb_checkpoints',\n",
       " 'Module 2 Data Visualization.ipynb',\n",
       " 'data',\n",
       " 'Module 1 Load Slides and Masks.ipynb',\n",
       " 'panda_retrieval.ipynb']"
      ]
     },
     "execution_count": 50,
     "metadata": {},
     "output_type": "execute_result"
    }
   ],
   "source": [
    "import os\n",
    "os.listdir()"
   ]
  },
  {
   "cell_type": "code",
   "execution_count": 56,
   "id": "5ec58268",
   "metadata": {},
   "outputs": [],
   "source": [
    "class ToyPANDASDataset(Dataset):\n",
    "    \n",
    "    def __init__(self,\n",
    "                 image_dir: str,\n",
    "                 mask_dir: str, \n",
    "                 root_dir: str,\n",
    "                 tile_qualifier,\n",
    "                 mask_suffix: str = \"_mask\",\n",
    "                 imfile_ext: str = \".tiff\",\n",
    "                 maskfile_ext: str = \".tiff\",\n",
    "                 tile_size: int = 224,\n",
    "                 channel_idx: int = 0,\n",
    "                 transform = None):\n",
    "        \n",
    "        self.image_dir = image_dir\n",
    "        self.mask_dir = mask_dir\n",
    "        self.root_dir = root_dir\n",
    "        self.mask_suffix = mask_suffix\n",
    "        self.imfile_ext = imfile_ext\n",
    "        self.maskfile_ext = maskfile_ext\n",
    "        self.transform = transform\n",
    "        self.tile_qualifier = tile_qualifier\n",
    "        self.tile_size = tile_size\n",
    "        self.full_mask_ext = self.mask_suffix + self.maskfile_ext\n",
    "        self.channel_idx = channel_idx\n",
    "        self.image_files = list(filter(lambda file: file != '.DS_Store', sorted(os.listdir(self.image_dir))))\n",
    "        self.mask_files = list(filter(lambda file: file != '.DS_Store', sorted(os.listdir(self.mask_dir))))\n",
    "        \n",
    "    def extract_raw_regid(self,\n",
    "                          filename: str,\n",
    "                          ext: str) -> str:\n",
    "        i = 1\n",
    "        while filename[-i:] != ext:\n",
    "            i += 1\n",
    "        return filename[0:len(filename)-i]\n",
    "    \n",
    "    def extract_nonoverlapping_tile_coords(self,\n",
    "                                           mask: np.ndarray):\n",
    "        \n",
    "        mask = mask[:,:,channel_idx]\n",
    "        assert len(mask.shape) == 2\n",
    "        R, C = mask.shape\n",
    "        tile_coords = []\n",
    "        for i in range(0, R, self.tile_size):\n",
    "            for j in range(0, C, self.tile_size):\n",
    "                try:\n",
    "                    tile = mask[i : i + self.tile_size, j : j + self.tile_size]\n",
    "                    if tile.shape == (self.tile_size, self.tile_size) and self.tile_qualifier(tile):\n",
    "                        tile_coords.append((i, j))\n",
    "                except IndexError:\n",
    "                    print(f\"Skipping tile at position ({i}, {j}) because it is out of bounds.\")\n",
    "                        \n",
    "        return tile_coords\n",
    "    \n",
    "    def get_imtile_coords(self):\n",
    "        \n",
    "        imtile_coords = []\n",
    "        \n",
    "        for imfile in self.image_files:\n",
    "            regid = self.extract_raw_regid(imfile, self.imfile_ext)\n",
    "            mask_file = regid + self.full_mask_ext\n",
    "            mask = tifffile.imread(os.path.join(self.root_dir, self.mask_dir, mask_file))\n",
    "            tile_coords = self.extract_nonoverlapping_tile_coords(mask)\n",
    "            imtile_coord = list(map(lambda tup : (imfile,) + tup, tile_coords))\n",
    "            imtile_coords.extend(imtile_coord)\n",
    "            # tabulation for our reference\n",
    "            # for imtile_coords, for each tile, summary of class balance in each image\n",
    "        \n",
    "        return imtile_coords\n",
    "    \n",
    "    def __len__(self):\n",
    "        return len(imtile_coords)\n",
    "    "
   ]
  },
  {
   "cell_type": "code",
   "execution_count": null,
   "id": "6e54cde8",
   "metadata": {},
   "outputs": [],
   "source": [
    "imtile_coords : list[tuple[str, int, int]]\n",
    "\n",
    "imtile_coords[0] = (image_files[0], 10, 11)\n",
    "imtile_coord[1] = (image_files[0], 11, 12)"
   ]
  },
  {
   "cell_type": "code",
   "execution_count": null,
   "id": "b2e12d4a",
   "metadata": {},
   "outputs": [],
   "source": []
  },
  {
   "cell_type": "code",
   "execution_count": 66,
   "id": "9a1be706",
   "metadata": {},
   "outputs": [],
   "source": [
    "panda_dataset = ToyPANDASDataset(image_dir = image_dir,\n",
    "                                 mask_dir = mask_dir,\n",
    "                                 root_dir = ROOT_FOLDER,\n",
    "                                 tile_qualifier = tile_qualifier)"
   ]
  },
  {
   "cell_type": "code",
   "execution_count": 70,
   "id": "c4233478",
   "metadata": {},
   "outputs": [
    {
     "ename": "FileNotFoundError",
     "evalue": "[Errno 2] No such file or directory: '/Users/rishabhsharma/Desktop/Cedars/Code/sample_data/sample_data/train_label_masks/0018ae58b01bdadc8e347995b69f99aa_mask.tiff'",
     "output_type": "error",
     "traceback": [
      "\u001b[0;31m---------------------------------------------------------------------------\u001b[0m",
      "\u001b[0;31mFileNotFoundError\u001b[0m                         Traceback (most recent call last)",
      "\u001b[0;32m/var/folders/70/hy2r56_j0wb9862yd1584x340000gn/T/ipykernel_99472/3180849681.py\u001b[0m in \u001b[0;36m<module>\u001b[0;34m\u001b[0m\n\u001b[0;32m----> 1\u001b[0;31m \u001b[0mimtile_coords\u001b[0m \u001b[0;34m=\u001b[0m \u001b[0mpanda_dataset\u001b[0m\u001b[0;34m.\u001b[0m\u001b[0mget_imtile_coords\u001b[0m\u001b[0;34m(\u001b[0m\u001b[0;34m)\u001b[0m\u001b[0;34m\u001b[0m\u001b[0;34m\u001b[0m\u001b[0m\n\u001b[0m",
      "\u001b[0;32m/var/folders/70/hy2r56_j0wb9862yd1584x340000gn/T/ipykernel_99472/1149505982.py\u001b[0m in \u001b[0;36mget_imtile_coords\u001b[0;34m(self)\u001b[0m\n\u001b[1;32m     60\u001b[0m             \u001b[0mregid\u001b[0m \u001b[0;34m=\u001b[0m \u001b[0mself\u001b[0m\u001b[0;34m.\u001b[0m\u001b[0mextract_raw_regid\u001b[0m\u001b[0;34m(\u001b[0m\u001b[0mimfile\u001b[0m\u001b[0;34m,\u001b[0m \u001b[0mself\u001b[0m\u001b[0;34m.\u001b[0m\u001b[0mimfile_ext\u001b[0m\u001b[0;34m)\u001b[0m\u001b[0;34m\u001b[0m\u001b[0;34m\u001b[0m\u001b[0m\n\u001b[1;32m     61\u001b[0m             \u001b[0mmask_file\u001b[0m \u001b[0;34m=\u001b[0m \u001b[0mregid\u001b[0m \u001b[0;34m+\u001b[0m \u001b[0mself\u001b[0m\u001b[0;34m.\u001b[0m\u001b[0mfull_mask_ext\u001b[0m\u001b[0;34m\u001b[0m\u001b[0;34m\u001b[0m\u001b[0m\n\u001b[0;32m---> 62\u001b[0;31m             \u001b[0mmask\u001b[0m \u001b[0;34m=\u001b[0m \u001b[0mtifffile\u001b[0m\u001b[0;34m.\u001b[0m\u001b[0mimread\u001b[0m\u001b[0;34m(\u001b[0m\u001b[0mos\u001b[0m\u001b[0;34m.\u001b[0m\u001b[0mpath\u001b[0m\u001b[0;34m.\u001b[0m\u001b[0mjoin\u001b[0m\u001b[0;34m(\u001b[0m\u001b[0mself\u001b[0m\u001b[0;34m.\u001b[0m\u001b[0mroot_dir\u001b[0m\u001b[0;34m,\u001b[0m \u001b[0mself\u001b[0m\u001b[0;34m.\u001b[0m\u001b[0mmask_dir\u001b[0m\u001b[0;34m,\u001b[0m \u001b[0mmask_file\u001b[0m\u001b[0;34m)\u001b[0m\u001b[0;34m)\u001b[0m\u001b[0;34m\u001b[0m\u001b[0;34m\u001b[0m\u001b[0m\n\u001b[0m\u001b[1;32m     63\u001b[0m             \u001b[0mtile_coords\u001b[0m \u001b[0;34m=\u001b[0m \u001b[0mself\u001b[0m\u001b[0;34m.\u001b[0m\u001b[0mextract_nonoverlapping_tile_coords\u001b[0m\u001b[0;34m(\u001b[0m\u001b[0mmask\u001b[0m\u001b[0;34m)\u001b[0m\u001b[0;34m\u001b[0m\u001b[0;34m\u001b[0m\u001b[0m\n\u001b[1;32m     64\u001b[0m             \u001b[0mimtile_coord\u001b[0m \u001b[0;34m=\u001b[0m \u001b[0mlist\u001b[0m\u001b[0;34m(\u001b[0m\u001b[0mmap\u001b[0m\u001b[0;34m(\u001b[0m\u001b[0;32mlambda\u001b[0m \u001b[0mtup\u001b[0m \u001b[0;34m:\u001b[0m \u001b[0;34m(\u001b[0m\u001b[0mimfile\u001b[0m\u001b[0;34m,\u001b[0m\u001b[0;34m)\u001b[0m \u001b[0;34m+\u001b[0m \u001b[0mtup\u001b[0m\u001b[0;34m,\u001b[0m \u001b[0mtile_coords\u001b[0m\u001b[0;34m)\u001b[0m\u001b[0;34m)\u001b[0m\u001b[0;34m\u001b[0m\u001b[0;34m\u001b[0m\u001b[0m\n",
      "\u001b[0;32m~/miniforge3/lib/python3.9/site-packages/tifffile/tifffile.py\u001b[0m in \u001b[0;36mimread\u001b[0;34m(***failed resolving arguments***)\u001b[0m\n\u001b[1;32m   1243\u001b[0m             \u001b[0mfiles\u001b[0m\u001b[0;34m,\u001b[0m \u001b[0mcollections\u001b[0m\u001b[0;34m.\u001b[0m\u001b[0mabc\u001b[0m\u001b[0;34m.\u001b[0m\u001b[0mSequence\u001b[0m\u001b[0;34m\u001b[0m\u001b[0;34m\u001b[0m\u001b[0m\n\u001b[1;32m   1244\u001b[0m         ):\n\u001b[0;32m-> 1245\u001b[0;31m             with TiffFile(\n\u001b[0m\u001b[1;32m   1246\u001b[0m                 \u001b[0mfiles\u001b[0m\u001b[0;34m,\u001b[0m\u001b[0;34m\u001b[0m\u001b[0;34m\u001b[0m\u001b[0m\n\u001b[1;32m   1247\u001b[0m                 \u001b[0mmode\u001b[0m\u001b[0;34m=\u001b[0m\u001b[0mmode\u001b[0m\u001b[0;34m,\u001b[0m\u001b[0;34m\u001b[0m\u001b[0;34m\u001b[0m\u001b[0m\n",
      "\u001b[0;32m~/miniforge3/lib/python3.9/site-packages/tifffile/tifffile.py\u001b[0m in \u001b[0;36m__init__\u001b[0;34m(self, file, mode, name, offset, size, omexml, _multifile, _useframes, _parent, **is_flags)\u001b[0m\n\u001b[1;32m   4268\u001b[0m             \u001b[0mself\u001b[0m\u001b[0;34m.\u001b[0m\u001b[0mis_ome\u001b[0m \u001b[0;34m=\u001b[0m \u001b[0;32mTrue\u001b[0m\u001b[0;34m\u001b[0m\u001b[0;34m\u001b[0m\u001b[0m\n\u001b[1;32m   4269\u001b[0m \u001b[0;34m\u001b[0m\u001b[0m\n\u001b[0;32m-> 4270\u001b[0;31m         \u001b[0mfh\u001b[0m \u001b[0;34m=\u001b[0m \u001b[0mFileHandle\u001b[0m\u001b[0;34m(\u001b[0m\u001b[0mfile\u001b[0m\u001b[0;34m,\u001b[0m \u001b[0mmode\u001b[0m\u001b[0;34m=\u001b[0m\u001b[0mmode\u001b[0m\u001b[0;34m,\u001b[0m \u001b[0mname\u001b[0m\u001b[0;34m=\u001b[0m\u001b[0mname\u001b[0m\u001b[0;34m,\u001b[0m \u001b[0moffset\u001b[0m\u001b[0;34m=\u001b[0m\u001b[0moffset\u001b[0m\u001b[0;34m,\u001b[0m \u001b[0msize\u001b[0m\u001b[0;34m=\u001b[0m\u001b[0msize\u001b[0m\u001b[0;34m)\u001b[0m\u001b[0;34m\u001b[0m\u001b[0;34m\u001b[0m\u001b[0m\n\u001b[0m\u001b[1;32m   4271\u001b[0m         \u001b[0mself\u001b[0m\u001b[0;34m.\u001b[0m\u001b[0m_fh\u001b[0m \u001b[0;34m=\u001b[0m \u001b[0mfh\u001b[0m\u001b[0;34m\u001b[0m\u001b[0;34m\u001b[0m\u001b[0m\n\u001b[1;32m   4272\u001b[0m         \u001b[0mself\u001b[0m\u001b[0;34m.\u001b[0m\u001b[0m_multifile\u001b[0m \u001b[0;34m=\u001b[0m \u001b[0;32mTrue\u001b[0m \u001b[0;32mif\u001b[0m \u001b[0m_multifile\u001b[0m \u001b[0;32mis\u001b[0m \u001b[0;32mNone\u001b[0m \u001b[0;32melse\u001b[0m \u001b[0mbool\u001b[0m\u001b[0;34m(\u001b[0m\u001b[0m_multifile\u001b[0m\u001b[0;34m)\u001b[0m\u001b[0;34m\u001b[0m\u001b[0;34m\u001b[0m\u001b[0m\n",
      "\u001b[0;32m~/miniforge3/lib/python3.9/site-packages/tifffile/tifffile.py\u001b[0m in \u001b[0;36m__init__\u001b[0;34m(self, file, mode, name, offset, size)\u001b[0m\n\u001b[1;32m  14657\u001b[0m         \u001b[0mself\u001b[0m\u001b[0;34m.\u001b[0m\u001b[0m_close\u001b[0m \u001b[0;34m=\u001b[0m \u001b[0;32mTrue\u001b[0m\u001b[0;34m\u001b[0m\u001b[0;34m\u001b[0m\u001b[0m\n\u001b[1;32m  14658\u001b[0m         \u001b[0mself\u001b[0m\u001b[0;34m.\u001b[0m\u001b[0m_lock\u001b[0m \u001b[0;34m=\u001b[0m \u001b[0mNullContext\u001b[0m\u001b[0;34m(\u001b[0m\u001b[0;34m)\u001b[0m\u001b[0;34m\u001b[0m\u001b[0;34m\u001b[0m\u001b[0m\n\u001b[0;32m> 14659\u001b[0;31m         \u001b[0mself\u001b[0m\u001b[0;34m.\u001b[0m\u001b[0mopen\u001b[0m\u001b[0;34m(\u001b[0m\u001b[0;34m)\u001b[0m\u001b[0;34m\u001b[0m\u001b[0;34m\u001b[0m\u001b[0m\n\u001b[0m\u001b[1;32m  14660\u001b[0m         \u001b[0;32massert\u001b[0m \u001b[0mself\u001b[0m\u001b[0;34m.\u001b[0m\u001b[0m_fh\u001b[0m \u001b[0;32mis\u001b[0m \u001b[0;32mnot\u001b[0m \u001b[0;32mNone\u001b[0m\u001b[0;34m\u001b[0m\u001b[0;34m\u001b[0m\u001b[0m\n\u001b[1;32m  14661\u001b[0m \u001b[0;34m\u001b[0m\u001b[0m\n",
      "\u001b[0;32m~/miniforge3/lib/python3.9/site-packages/tifffile/tifffile.py\u001b[0m in \u001b[0;36mopen\u001b[0;34m(self)\u001b[0m\n\u001b[1;32m  14676\u001b[0m             \u001b[0mself\u001b[0m\u001b[0;34m.\u001b[0m\u001b[0m_file\u001b[0m \u001b[0;34m=\u001b[0m \u001b[0mos\u001b[0m\u001b[0;34m.\u001b[0m\u001b[0mpath\u001b[0m\u001b[0;34m.\u001b[0m\u001b[0mrealpath\u001b[0m\u001b[0;34m(\u001b[0m\u001b[0mself\u001b[0m\u001b[0;34m.\u001b[0m\u001b[0m_file\u001b[0m\u001b[0;34m)\u001b[0m\u001b[0;34m\u001b[0m\u001b[0;34m\u001b[0m\u001b[0m\n\u001b[1;32m  14677\u001b[0m             \u001b[0mself\u001b[0m\u001b[0;34m.\u001b[0m\u001b[0m_dir\u001b[0m\u001b[0;34m,\u001b[0m \u001b[0mself\u001b[0m\u001b[0;34m.\u001b[0m\u001b[0m_name\u001b[0m \u001b[0;34m=\u001b[0m \u001b[0mos\u001b[0m\u001b[0;34m.\u001b[0m\u001b[0mpath\u001b[0m\u001b[0;34m.\u001b[0m\u001b[0msplit\u001b[0m\u001b[0;34m(\u001b[0m\u001b[0mself\u001b[0m\u001b[0;34m.\u001b[0m\u001b[0m_file\u001b[0m\u001b[0;34m)\u001b[0m\u001b[0;34m\u001b[0m\u001b[0;34m\u001b[0m\u001b[0m\n\u001b[0;32m> 14678\u001b[0;31m             self._fh = open(\n\u001b[0m\u001b[1;32m  14679\u001b[0m                 \u001b[0mself\u001b[0m\u001b[0;34m.\u001b[0m\u001b[0m_file\u001b[0m\u001b[0;34m,\u001b[0m \u001b[0mself\u001b[0m\u001b[0;34m.\u001b[0m\u001b[0m_mode\u001b[0m\u001b[0;34m,\u001b[0m \u001b[0mencoding\u001b[0m\u001b[0;34m=\u001b[0m\u001b[0;32mNone\u001b[0m\u001b[0;34m\u001b[0m\u001b[0;34m\u001b[0m\u001b[0m\n\u001b[1;32m  14680\u001b[0m             )  # type: ignore\n",
      "\u001b[0;31mFileNotFoundError\u001b[0m: [Errno 2] No such file or directory: '/Users/rishabhsharma/Desktop/Cedars/Code/sample_data/sample_data/train_label_masks/0018ae58b01bdadc8e347995b69f99aa_mask.tiff'"
     ]
    }
   ],
   "source": [
    "imtile_coords = panda_dataset.get_imtile_coords()"
   ]
  },
  {
   "cell_type": "code",
   "execution_count": 74,
   "id": "5270aa07",
   "metadata": {},
   "outputs": [
    {
     "data": {
      "text/plain": [
       "True"
      ]
     },
     "execution_count": 74,
     "metadata": {},
     "output_type": "execute_result"
    }
   ],
   "source": [
    "mask_files[0] == '0018ae58b01bdadc8e347995b69f99aa_mask.tiff'"
   ]
  },
  {
   "cell_type": "code",
   "execution_count": null,
   "id": "9a14d7d5",
   "metadata": {},
   "outputs": [],
   "source": []
  }
 ],
 "metadata": {
  "kernelspec": {
   "display_name": "Python 3 (ipykernel)",
   "language": "python",
   "name": "python3"
  },
  "language_info": {
   "codemirror_mode": {
    "name": "ipython",
    "version": 3
   },
   "file_extension": ".py",
   "mimetype": "text/x-python",
   "name": "python",
   "nbconvert_exporter": "python",
   "pygments_lexer": "ipython3",
   "version": "3.9.7"
  }
 },
 "nbformat": 4,
 "nbformat_minor": 5
}
